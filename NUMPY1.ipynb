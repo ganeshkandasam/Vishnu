{
 "cells": [
  {
   "cell_type": "code",
   "execution_count": 4,
   "id": "a19e8a02",
   "metadata": {},
   "outputs": [],
   "source": [
    "import numpy as np"
   ]
  },
  {
   "cell_type": "code",
   "execution_count": 5,
   "id": "4d227a9a",
   "metadata": {},
   "outputs": [],
   "source": [
    "arr1=np.array([[8,0,3],[90,87,3],[90,45,3]])"
   ]
  },
  {
   "cell_type": "code",
   "execution_count": 10,
   "id": "a9fb244a",
   "metadata": {},
   "outputs": [
    {
     "name": "stdout",
     "output_type": "stream",
     "text": [
      "[[ 8  0  3]\n",
      " [90 87  3]\n",
      " [90 45  3]]\n"
     ]
    }
   ],
   "source": [
    "print(arr1)\n",
    "det_mat=np.linalg.det(arr1)\n"
   ]
  },
  {
   "cell_type": "code",
   "execution_count": 13,
   "id": "5dfdafe4",
   "metadata": {},
   "outputs": [
    {
     "data": {
      "text/plain": [
       "-10332.000000000002"
      ]
     },
     "execution_count": 13,
     "metadata": {},
     "output_type": "execute_result"
    }
   ],
   "source": [
    "det_mat"
   ]
  },
  {
   "cell_type": "code",
   "execution_count": 20,
   "id": "e4233264",
   "metadata": {},
   "outputs": [],
   "source": [
    "inverse=np.linalg.inv(arr1)\n"
   ]
  },
  {
   "cell_type": "code",
   "execution_count": 21,
   "id": "14cddfb6",
   "metadata": {},
   "outputs": [
    {
     "data": {
      "text/plain": [
       "array([[-0.01219512, -0.0130662 ,  0.02526132],\n",
       "       [-0.        ,  0.02380952, -0.02380952],\n",
       "       [ 0.36585366,  0.03484321, -0.06736353]])"
      ]
     },
     "execution_count": 21,
     "metadata": {},
     "output_type": "execute_result"
    }
   ],
   "source": [
    "inverse"
   ]
  },
  {
   "cell_type": "code",
   "execution_count": 23,
   "id": "52946bd9",
   "metadata": {},
   "outputs": [],
   "source": [
    "Dense=np.array([[1,0,3,0],[0,0,0,6],[0,5,6,7],[0,6,0,9]])"
   ]
  },
  {
   "cell_type": "code",
   "execution_count": 24,
   "id": "6e36b805",
   "metadata": {},
   "outputs": [
    {
     "data": {
      "text/plain": [
       "array([[1, 0, 3, 0],\n",
       "       [0, 0, 0, 6],\n",
       "       [0, 5, 6, 7],\n",
       "       [0, 6, 0, 9]])"
      ]
     },
     "execution_count": 24,
     "metadata": {},
     "output_type": "execute_result"
    }
   ],
   "source": [
    "Dense"
   ]
  },
  {
   "cell_type": "code",
   "execution_count": 25,
   "id": "f8080e37",
   "metadata": {},
   "outputs": [],
   "source": [
    "from scipy.sparse import csr_matrix"
   ]
  },
  {
   "cell_type": "code",
   "execution_count": null,
   "id": "747e14bd",
   "metadata": {},
   "outputs": [],
   "source": [
    "spar"
   ]
  }
 ],
 "metadata": {
  "kernelspec": {
   "display_name": "Python 3 (ipykernel)",
   "language": "python",
   "name": "python3"
  },
  "language_info": {
   "codemirror_mode": {
    "name": "ipython",
    "version": 3
   },
   "file_extension": ".py",
   "mimetype": "text/x-python",
   "name": "python",
   "nbconvert_exporter": "python",
   "pygments_lexer": "ipython3",
   "version": "3.11.5"
  }
 },
 "nbformat": 4,
 "nbformat_minor": 5
}
