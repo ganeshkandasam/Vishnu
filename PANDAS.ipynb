{
 "cells": [
  {
   "cell_type": "markdown",
   "id": "b53d40d9",
   "metadata": {},
   "source": [
    "\"pd.__version__\"\n",
    "\"pip install --upgrade numpy --user\""
   ]
  },
  {
   "cell_type": "code",
   "execution_count": 1,
   "id": "44ba3deb",
   "metadata": {},
   "outputs": [],
   "source": [
    "import pandas as pd\n"
   ]
  },
  {
   "cell_type": "code",
   "execution_count": 2,
   "id": "a3ba8558",
   "metadata": {},
   "outputs": [],
   "source": [
    "import numpy as np"
   ]
  },
  {
   "cell_type": "code",
   "execution_count": 3,
   "id": "aabd8457",
   "metadata": {},
   "outputs": [],
   "source": [
    "s1=pd.Series(['veeramani',22,'O+','male'],index=  [\"name\",\"age\",\"blood group\",\"sex\"])"
   ]
  },
  {
   "cell_type": "code",
   "execution_count": 4,
   "id": "b61ca48b",
   "metadata": {},
   "outputs": [],
   "source": [
    "s2=pd.Series(['haridharan',18,'O+','male'],index=  [\"name\",\"age\",\"blood group\",\"sex\"])"
   ]
  },
  {
   "cell_type": "code",
   "execution_count": 5,
   "id": "e1c1f1b9",
   "metadata": {},
   "outputs": [],
   "source": [
    "s3=pd.Series(['arun kumar',18,'O+','male'],index=  [\"name\",\"age\",\"blood group\",\"sex\"])"
   ]
  },
  {
   "cell_type": "code",
   "execution_count": 6,
   "id": "1535e531",
   "metadata": {},
   "outputs": [
    {
     "data": {
      "text/plain": [
       "name           arun kumar\n",
       "age                    18\n",
       "blood group            O+\n",
       "sex                  male\n",
       "dtype: object"
      ]
     },
     "execution_count": 6,
     "metadata": {},
     "output_type": "execute_result"
    }
   ],
   "source": [
    "s3"
   ]
  },
  {
   "cell_type": "code",
   "execution_count": 7,
   "id": "815c504d",
   "metadata": {},
   "outputs": [
    {
     "data": {
      "text/plain": [
       "name           veeramani\n",
       "age                   22\n",
       "blood group           O+\n",
       "sex                 male\n",
       "dtype: object"
      ]
     },
     "execution_count": 7,
     "metadata": {},
     "output_type": "execute_result"
    }
   ],
   "source": [
    "s1"
   ]
  },
  {
   "cell_type": "code",
   "execution_count": 8,
   "id": "039506a1",
   "metadata": {},
   "outputs": [
    {
     "data": {
      "text/plain": [
       "name           haridharan\n",
       "age                    18\n",
       "blood group            O+\n",
       "sex                  male\n",
       "dtype: object"
      ]
     },
     "execution_count": 8,
     "metadata": {},
     "output_type": "execute_result"
    }
   ],
   "source": [
    "s2"
   ]
  },
  {
   "cell_type": "markdown",
   "id": "d5787e47",
   "metadata": {},
   "source": [
    "# Data Frame"
   ]
  },
  {
   "cell_type": "markdown",
   "id": "7015fb1e",
   "metadata": {},
   "source": [
    "veriable_Name=pd.DataFrame([data,columns=[column name]])"
   ]
  },
  {
   "cell_type": "code",
   "execution_count": 9,
   "id": "c6e7f3bc",
   "metadata": {},
   "outputs": [],
   "source": [
    "df1=pd.DataFrame(s1 ,columns=[\" details 1\"])"
   ]
  },
  {
   "cell_type": "code",
   "execution_count": 10,
   "id": "7d7f19d1",
   "metadata": {},
   "outputs": [
    {
     "data": {
      "text/html": [
       "<div>\n",
       "<style scoped>\n",
       "    .dataframe tbody tr th:only-of-type {\n",
       "        vertical-align: middle;\n",
       "    }\n",
       "\n",
       "    .dataframe tbody tr th {\n",
       "        vertical-align: top;\n",
       "    }\n",
       "\n",
       "    .dataframe thead th {\n",
       "        text-align: right;\n",
       "    }\n",
       "</style>\n",
       "<table border=\"1\" class=\"dataframe\">\n",
       "  <thead>\n",
       "    <tr style=\"text-align: right;\">\n",
       "      <th></th>\n",
       "      <th>details 1</th>\n",
       "    </tr>\n",
       "  </thead>\n",
       "  <tbody>\n",
       "    <tr>\n",
       "      <th>name</th>\n",
       "      <td>veeramani</td>\n",
       "    </tr>\n",
       "    <tr>\n",
       "      <th>age</th>\n",
       "      <td>22</td>\n",
       "    </tr>\n",
       "    <tr>\n",
       "      <th>blood group</th>\n",
       "      <td>O+</td>\n",
       "    </tr>\n",
       "    <tr>\n",
       "      <th>sex</th>\n",
       "      <td>male</td>\n",
       "    </tr>\n",
       "  </tbody>\n",
       "</table>\n",
       "</div>"
      ],
      "text/plain": [
       "             details 1\n",
       "name         veeramani\n",
       "age                 22\n",
       "blood group         O+\n",
       "sex               male"
      ]
     },
     "execution_count": 10,
     "metadata": {},
     "output_type": "execute_result"
    }
   ],
   "source": [
    "df1"
   ]
  },
  {
   "cell_type": "code",
   "execution_count": 11,
   "id": "a75f0f4f",
   "metadata": {},
   "outputs": [],
   "source": [
    "df1[\"details 2\"]=s2"
   ]
  },
  {
   "cell_type": "code",
   "execution_count": 12,
   "id": "a4a25f00",
   "metadata": {},
   "outputs": [],
   "source": [
    "df1[\"details 3\"]=s3"
   ]
  },
  {
   "cell_type": "code",
   "execution_count": 13,
   "id": "ee9ede86",
   "metadata": {},
   "outputs": [
    {
     "data": {
      "text/html": [
       "<div>\n",
       "<style scoped>\n",
       "    .dataframe tbody tr th:only-of-type {\n",
       "        vertical-align: middle;\n",
       "    }\n",
       "\n",
       "    .dataframe tbody tr th {\n",
       "        vertical-align: top;\n",
       "    }\n",
       "\n",
       "    .dataframe thead th {\n",
       "        text-align: right;\n",
       "    }\n",
       "</style>\n",
       "<table border=\"1\" class=\"dataframe\">\n",
       "  <thead>\n",
       "    <tr style=\"text-align: right;\">\n",
       "      <th></th>\n",
       "      <th>details 1</th>\n",
       "      <th>details 2</th>\n",
       "      <th>details 3</th>\n",
       "    </tr>\n",
       "  </thead>\n",
       "  <tbody>\n",
       "    <tr>\n",
       "      <th>name</th>\n",
       "      <td>veeramani</td>\n",
       "      <td>haridharan</td>\n",
       "      <td>arun kumar</td>\n",
       "    </tr>\n",
       "    <tr>\n",
       "      <th>age</th>\n",
       "      <td>22</td>\n",
       "      <td>18</td>\n",
       "      <td>18</td>\n",
       "    </tr>\n",
       "    <tr>\n",
       "      <th>blood group</th>\n",
       "      <td>O+</td>\n",
       "      <td>O+</td>\n",
       "      <td>O+</td>\n",
       "    </tr>\n",
       "    <tr>\n",
       "      <th>sex</th>\n",
       "      <td>male</td>\n",
       "      <td>male</td>\n",
       "      <td>male</td>\n",
       "    </tr>\n",
       "  </tbody>\n",
       "</table>\n",
       "</div>"
      ],
      "text/plain": [
       "             details 1   details 2   details 3\n",
       "name         veeramani  haridharan  arun kumar\n",
       "age                 22          18          18\n",
       "blood group         O+          O+          O+\n",
       "sex               male        male        male"
      ]
     },
     "execution_count": 13,
     "metadata": {},
     "output_type": "execute_result"
    }
   ],
   "source": [
    "df1"
   ]
  },
  {
   "cell_type": "code",
   "execution_count": 14,
   "id": "e58f9468",
   "metadata": {},
   "outputs": [],
   "source": [
    "cars={\"petrolcars\":{1:\"Honda Elevate\",2:\"Honda Amaze\",3:\"Honda City\"},\"Electric Cars\":{1:\"Tata Curvv EV\",2:\"BYD Seal\",3:\"Tata Tiago EV\"}}"
   ]
  },
  {
   "cell_type": "code",
   "execution_count": 15,
   "id": "cb860397",
   "metadata": {},
   "outputs": [],
   "source": [
    "df2=pd.DataFrame(cars,columns=[\"petrolcars\",\"Electric Cars\"])"
   ]
  },
  {
   "cell_type": "code",
   "execution_count": 16,
   "id": "c2fef843",
   "metadata": {},
   "outputs": [
    {
     "data": {
      "text/html": [
       "<div>\n",
       "<style scoped>\n",
       "    .dataframe tbody tr th:only-of-type {\n",
       "        vertical-align: middle;\n",
       "    }\n",
       "\n",
       "    .dataframe tbody tr th {\n",
       "        vertical-align: top;\n",
       "    }\n",
       "\n",
       "    .dataframe thead th {\n",
       "        text-align: right;\n",
       "    }\n",
       "</style>\n",
       "<table border=\"1\" class=\"dataframe\">\n",
       "  <thead>\n",
       "    <tr style=\"text-align: right;\">\n",
       "      <th></th>\n",
       "      <th>petrolcars</th>\n",
       "      <th>Electric Cars</th>\n",
       "    </tr>\n",
       "  </thead>\n",
       "  <tbody>\n",
       "    <tr>\n",
       "      <th>1</th>\n",
       "      <td>Honda Elevate</td>\n",
       "      <td>Tata Curvv EV</td>\n",
       "    </tr>\n",
       "    <tr>\n",
       "      <th>2</th>\n",
       "      <td>Honda Amaze</td>\n",
       "      <td>BYD Seal</td>\n",
       "    </tr>\n",
       "    <tr>\n",
       "      <th>3</th>\n",
       "      <td>Honda City</td>\n",
       "      <td>Tata Tiago EV</td>\n",
       "    </tr>\n",
       "  </tbody>\n",
       "</table>\n",
       "</div>"
      ],
      "text/plain": [
       "      petrolcars  Electric Cars\n",
       "1  Honda Elevate  Tata Curvv EV\n",
       "2    Honda Amaze       BYD Seal\n",
       "3     Honda City  Tata Tiago EV"
      ]
     },
     "execution_count": 16,
     "metadata": {},
     "output_type": "execute_result"
    }
   ],
   "source": [
    "df2"
   ]
  },
  {
   "cell_type": "code",
   "execution_count": 29,
   "id": "221f9724",
   "metadata": {},
   "outputs": [],
   "source": [
    "studentform={\"name\":{1:\"veeramani\",2:\"hari\",3:\"shiyam\",4:\"arun\",5:\"shanmugam\"},\"reg no\":{1:891,2:855,3:830,4:846,5:829},\"year\":{1:3,2:3,3:3,4:3,5:3}}"
   ]
  },
  {
   "cell_type": "code",
   "execution_count": 30,
   "id": "e47c1ffe",
   "metadata": {},
   "outputs": [],
   "source": [
    "df3=pd.DataFrame(studentform,columns=[\"name\",\"reg no\",\"year\"])"
   ]
  },
  {
   "cell_type": "code",
   "execution_count": 31,
   "id": "fe365bc5",
   "metadata": {},
   "outputs": [
    {
     "data": {
      "text/html": [
       "<div>\n",
       "<style scoped>\n",
       "    .dataframe tbody tr th:only-of-type {\n",
       "        vertical-align: middle;\n",
       "    }\n",
       "\n",
       "    .dataframe tbody tr th {\n",
       "        vertical-align: top;\n",
       "    }\n",
       "\n",
       "    .dataframe thead th {\n",
       "        text-align: right;\n",
       "    }\n",
       "</style>\n",
       "<table border=\"1\" class=\"dataframe\">\n",
       "  <thead>\n",
       "    <tr style=\"text-align: right;\">\n",
       "      <th></th>\n",
       "      <th>name</th>\n",
       "      <th>reg no</th>\n",
       "      <th>year</th>\n",
       "    </tr>\n",
       "  </thead>\n",
       "  <tbody>\n",
       "    <tr>\n",
       "      <th>1</th>\n",
       "      <td>veeramani</td>\n",
       "      <td>891</td>\n",
       "      <td>3</td>\n",
       "    </tr>\n",
       "    <tr>\n",
       "      <th>2</th>\n",
       "      <td>hari</td>\n",
       "      <td>855</td>\n",
       "      <td>3</td>\n",
       "    </tr>\n",
       "    <tr>\n",
       "      <th>3</th>\n",
       "      <td>shiyam</td>\n",
       "      <td>830</td>\n",
       "      <td>3</td>\n",
       "    </tr>\n",
       "    <tr>\n",
       "      <th>4</th>\n",
       "      <td>arun</td>\n",
       "      <td>846</td>\n",
       "      <td>3</td>\n",
       "    </tr>\n",
       "    <tr>\n",
       "      <th>5</th>\n",
       "      <td>shanmugam</td>\n",
       "      <td>829</td>\n",
       "      <td>3</td>\n",
       "    </tr>\n",
       "  </tbody>\n",
       "</table>\n",
       "</div>"
      ],
      "text/plain": [
       "        name  reg no  year\n",
       "1  veeramani     891     3\n",
       "2       hari     855     3\n",
       "3     shiyam     830     3\n",
       "4       arun     846     3\n",
       "5  shanmugam     829     3"
      ]
     },
     "execution_count": 31,
     "metadata": {},
     "output_type": "execute_result"
    }
   ],
   "source": [
    "df3"
   ]
  },
  {
   "cell_type": "code",
   "execution_count": 39,
   "id": "85c0f78b",
   "metadata": {},
   "outputs": [
    {
     "data": {
      "text/html": [
       "<div>\n",
       "<style scoped>\n",
       "    .dataframe tbody tr th:only-of-type {\n",
       "        vertical-align: middle;\n",
       "    }\n",
       "\n",
       "    .dataframe tbody tr th {\n",
       "        vertical-align: top;\n",
       "    }\n",
       "\n",
       "    .dataframe thead th {\n",
       "        text-align: right;\n",
       "    }\n",
       "</style>\n",
       "<table border=\"1\" class=\"dataframe\">\n",
       "  <thead>\n",
       "    <tr style=\"text-align: right;\">\n",
       "      <th></th>\n",
       "      <th>name</th>\n",
       "      <th>reg no</th>\n",
       "      <th>year</th>\n",
       "    </tr>\n",
       "  </thead>\n",
       "  <tbody>\n",
       "    <tr>\n",
       "      <th>1</th>\n",
       "      <td>veeramani</td>\n",
       "      <td>891</td>\n",
       "      <td>3</td>\n",
       "    </tr>\n",
       "    <tr>\n",
       "      <th>2</th>\n",
       "      <td>hari</td>\n",
       "      <td>855</td>\n",
       "      <td>3</td>\n",
       "    </tr>\n",
       "    <tr>\n",
       "      <th>3</th>\n",
       "      <td>shiyam</td>\n",
       "      <td>830</td>\n",
       "      <td>3</td>\n",
       "    </tr>\n",
       "    <tr>\n",
       "      <th>5</th>\n",
       "      <td>shanmugam</td>\n",
       "      <td>829</td>\n",
       "      <td>3</td>\n",
       "    </tr>\n",
       "  </tbody>\n",
       "</table>\n",
       "</div>"
      ],
      "text/plain": [
       "        name  reg no  year\n",
       "1  veeramani     891     3\n",
       "2       hari     855     3\n",
       "3     shiyam     830     3\n",
       "5  shanmugam     829     3"
      ]
     },
     "execution_count": 39,
     "metadata": {},
     "output_type": "execute_result"
    }
   ],
   "source": [
    "df3.drop(4,axis=0)"
   ]
  },
  {
   "cell_type": "code",
   "execution_count": 40,
   "id": "ccb86bb5",
   "metadata": {},
   "outputs": [
    {
     "data": {
      "text/html": [
       "<div>\n",
       "<style scoped>\n",
       "    .dataframe tbody tr th:only-of-type {\n",
       "        vertical-align: middle;\n",
       "    }\n",
       "\n",
       "    .dataframe tbody tr th {\n",
       "        vertical-align: top;\n",
       "    }\n",
       "\n",
       "    .dataframe thead th {\n",
       "        text-align: right;\n",
       "    }\n",
       "</style>\n",
       "<table border=\"1\" class=\"dataframe\">\n",
       "  <thead>\n",
       "    <tr style=\"text-align: right;\">\n",
       "      <th></th>\n",
       "      <th>name</th>\n",
       "      <th>reg no</th>\n",
       "    </tr>\n",
       "  </thead>\n",
       "  <tbody>\n",
       "    <tr>\n",
       "      <th>1</th>\n",
       "      <td>veeramani</td>\n",
       "      <td>891</td>\n",
       "    </tr>\n",
       "    <tr>\n",
       "      <th>2</th>\n",
       "      <td>hari</td>\n",
       "      <td>855</td>\n",
       "    </tr>\n",
       "    <tr>\n",
       "      <th>3</th>\n",
       "      <td>shiyam</td>\n",
       "      <td>830</td>\n",
       "    </tr>\n",
       "    <tr>\n",
       "      <th>4</th>\n",
       "      <td>arun</td>\n",
       "      <td>846</td>\n",
       "    </tr>\n",
       "    <tr>\n",
       "      <th>5</th>\n",
       "      <td>shanmugam</td>\n",
       "      <td>829</td>\n",
       "    </tr>\n",
       "  </tbody>\n",
       "</table>\n",
       "</div>"
      ],
      "text/plain": [
       "        name  reg no\n",
       "1  veeramani     891\n",
       "2       hari     855\n",
       "3     shiyam     830\n",
       "4       arun     846\n",
       "5  shanmugam     829"
      ]
     },
     "execution_count": 40,
     "metadata": {},
     "output_type": "execute_result"
    }
   ],
   "source": [
    "df3.drop(\"year\",axis=1)"
   ]
  },
  {
   "cell_type": "code",
   "execution_count": null,
   "id": "0dfad415",
   "metadata": {},
   "outputs": [],
   "source": []
  }
 ],
 "metadata": {
  "kernelspec": {
   "display_name": "Python 3 (ipykernel)",
   "language": "python",
   "name": "python3"
  },
  "language_info": {
   "codemirror_mode": {
    "name": "ipython",
    "version": 3
   },
   "file_extension": ".py",
   "mimetype": "text/x-python",
   "name": "python",
   "nbconvert_exporter": "python",
   "pygments_lexer": "ipython3",
   "version": "3.11.5"
  }
 },
 "nbformat": 4,
 "nbformat_minor": 5
}
