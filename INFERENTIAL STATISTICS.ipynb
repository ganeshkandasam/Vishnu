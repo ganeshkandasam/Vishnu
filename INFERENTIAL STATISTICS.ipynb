{
 "cells": [
  {
   "cell_type": "code",
   "execution_count": 1,
   "id": "26a38650",
   "metadata": {},
   "outputs": [],
   "source": [
    "import numpy as np"
   ]
  },
  {
   "cell_type": "markdown",
   "id": "c9a1c8ad",
   "metadata": {},
   "source": []
  },
  {
   "cell_type": "code",
   "execution_count": 2,
   "id": "36173ca1",
   "metadata": {},
   "outputs": [],
   "source": [
    "np.random.seed(42)\n",
    "heights=np.random.normal(loc=55 , scale=3, size=30)"
   ]
  },
  {
   "cell_type": "code",
   "execution_count": 3,
   "id": "f7df052e",
   "metadata": {},
   "outputs": [
    {
     "data": {
      "text/plain": [
       "array([56.49014246, 54.5852071 , 56.94306561, 59.56908957, 54.29753988,\n",
       "       54.29758913, 59.73763845, 57.30230419, 53.59157684, 56.62768013,\n",
       "       53.60974692, 53.60281074, 55.72588681, 49.26015927, 49.8252465 ,\n",
       "       53.31313741, 51.96150664, 55.942742  , 52.27592777, 50.7630889 ,\n",
       "       59.39694631, 54.3226711 , 55.20258461, 50.72575544, 53.36685183,\n",
       "       55.33276777, 51.54701927, 56.12709406, 53.19808393, 54.12491875])"
      ]
     },
     "execution_count": 3,
     "metadata": {},
     "output_type": "execute_result"
    }
   ],
   "source": [
    "heights\n"
   ]
  },
  {
   "cell_type": "code",
   "execution_count": null,
   "id": "369d3ac3",
   "metadata": {},
   "outputs": [],
   "source": []
  }
 ],
 "metadata": {
  "kernelspec": {
   "display_name": "Python 3 (ipykernel)",
   "language": "python",
   "name": "python3"
  },
  "language_info": {
   "codemirror_mode": {
    "name": "ipython",
    "version": 3
   },
   "file_extension": ".py",
   "mimetype": "text/x-python",
   "name": "python",
   "nbconvert_exporter": "python",
   "pygments_lexer": "ipython3",
   "version": "3.11.5"
  }
 },
 "nbformat": 4,
 "nbformat_minor": 5
}
