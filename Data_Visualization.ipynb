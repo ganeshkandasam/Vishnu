{
 "cells": [
  {
   "cell_type": "code",
   "execution_count": 1,
   "id": "e36bf9e3",
   "metadata": {},
   "outputs": [],
   "source": [
    "import matplotlib.pyplot as pt\n",
    "%matplotlib inline"
   ]
  },
  {
   "cell_type": "code",
   "execution_count": 2,
   "id": "d4e98b41",
   "metadata": {},
   "outputs": [],
   "source": [
    "import pandas as pd"
   ]
  },
  {
   "cell_type": "code",
   "execution_count": 3,
   "id": "5b83fd90",
   "metadata": {},
   "outputs": [],
   "source": [
    "data=pd.read_csv(\"C:/Users/vishnu/Downloads/worldwide covid data.csv\")"
   ]
  },
  {
   "cell_type": "code",
   "execution_count": 4,
   "id": "df95f12e",
   "metadata": {},
   "outputs": [
    {
     "data": {
      "text/html": [
       "<div>\n",
       "<style scoped>\n",
       "    .dataframe tbody tr th:only-of-type {\n",
       "        vertical-align: middle;\n",
       "    }\n",
       "\n",
       "    .dataframe tbody tr th {\n",
       "        vertical-align: top;\n",
       "    }\n",
       "\n",
       "    .dataframe thead th {\n",
       "        text-align: right;\n",
       "    }\n",
       "</style>\n",
       "<table border=\"1\" class=\"dataframe\">\n",
       "  <thead>\n",
       "    <tr style=\"text-align: right;\">\n",
       "      <th></th>\n",
       "      <th>Country/Other</th>\n",
       "      <th>Total Cases</th>\n",
       "      <th>Total Deaths</th>\n",
       "      <th>Total Recovered</th>\n",
       "      <th>Active Cases</th>\n",
       "      <th>Tot Cases/ 1M pop</th>\n",
       "      <th>Deaths/ 1M pop</th>\n",
       "      <th>Total Tests</th>\n",
       "      <th>Tests/ 1M pop</th>\n",
       "      <th>Population</th>\n",
       "    </tr>\n",
       "  </thead>\n",
       "  <tbody>\n",
       "    <tr>\n",
       "      <th>0</th>\n",
       "      <td>Afghanistan</td>\n",
       "      <td>225659</td>\n",
       "      <td>7946</td>\n",
       "      <td>206248.0</td>\n",
       "      <td>11465.0</td>\n",
       "      <td>5537</td>\n",
       "      <td>195</td>\n",
       "      <td>1302555.0</td>\n",
       "      <td>31961.0</td>\n",
       "      <td>40754388</td>\n",
       "    </tr>\n",
       "    <tr>\n",
       "      <th>1</th>\n",
       "      <td>Albania</td>\n",
       "      <td>334726</td>\n",
       "      <td>3602</td>\n",
       "      <td>329428.0</td>\n",
       "      <td>1696.0</td>\n",
       "      <td>116777</td>\n",
       "      <td>1257</td>\n",
       "      <td>1941032.0</td>\n",
       "      <td>677173.0</td>\n",
       "      <td>2866374</td>\n",
       "    </tr>\n",
       "    <tr>\n",
       "      <th>2</th>\n",
       "      <td>Algeria</td>\n",
       "      <td>271852</td>\n",
       "      <td>6881</td>\n",
       "      <td>183061.0</td>\n",
       "      <td>81910.0</td>\n",
       "      <td>5995</td>\n",
       "      <td>152</td>\n",
       "      <td>230960.0</td>\n",
       "      <td>5093.0</td>\n",
       "      <td>45350148</td>\n",
       "    </tr>\n",
       "    <tr>\n",
       "      <th>3</th>\n",
       "      <td>Andorra</td>\n",
       "      <td>48015</td>\n",
       "      <td>165</td>\n",
       "      <td>47563.0</td>\n",
       "      <td>287.0</td>\n",
       "      <td>619844</td>\n",
       "      <td>2130</td>\n",
       "      <td>249838.0</td>\n",
       "      <td>3225256.0</td>\n",
       "      <td>77463</td>\n",
       "    </tr>\n",
       "    <tr>\n",
       "      <th>4</th>\n",
       "      <td>Angola</td>\n",
       "      <td>105384</td>\n",
       "      <td>1934</td>\n",
       "      <td>103419.0</td>\n",
       "      <td>31.0</td>\n",
       "      <td>3009</td>\n",
       "      <td>55</td>\n",
       "      <td>1499795.0</td>\n",
       "      <td>42818.0</td>\n",
       "      <td>35027343</td>\n",
       "    </tr>\n",
       "    <tr>\n",
       "      <th>...</th>\n",
       "      <td>...</td>\n",
       "      <td>...</td>\n",
       "      <td>...</td>\n",
       "      <td>...</td>\n",
       "      <td>...</td>\n",
       "      <td>...</td>\n",
       "      <td>...</td>\n",
       "      <td>...</td>\n",
       "      <td>...</td>\n",
       "      <td>...</td>\n",
       "    </tr>\n",
       "    <tr>\n",
       "      <th>216</th>\n",
       "      <td>Vietnam</td>\n",
       "      <td>11623288</td>\n",
       "      <td>43206</td>\n",
       "      <td>10640663.0</td>\n",
       "      <td>939419.0</td>\n",
       "      <td>117462</td>\n",
       "      <td>437</td>\n",
       "      <td>85826548.0</td>\n",
       "      <td>867342.0</td>\n",
       "      <td>98953541</td>\n",
       "    </tr>\n",
       "    <tr>\n",
       "      <th>217</th>\n",
       "      <td>Wallis and Futuna</td>\n",
       "      <td>3550</td>\n",
       "      <td>8</td>\n",
       "      <td>438.0</td>\n",
       "      <td>3104.0</td>\n",
       "      <td>323256</td>\n",
       "      <td>728</td>\n",
       "      <td>20508.0</td>\n",
       "      <td>1867419.0</td>\n",
       "      <td>10982</td>\n",
       "    </tr>\n",
       "    <tr>\n",
       "      <th>218</th>\n",
       "      <td>Yemen</td>\n",
       "      <td>11945</td>\n",
       "      <td>2159</td>\n",
       "      <td>9124.0</td>\n",
       "      <td>662.0</td>\n",
       "      <td>383</td>\n",
       "      <td>69</td>\n",
       "      <td>329592.0</td>\n",
       "      <td>10579.0</td>\n",
       "      <td>31154867</td>\n",
       "    </tr>\n",
       "    <tr>\n",
       "      <th>219</th>\n",
       "      <td>Zambia</td>\n",
       "      <td>349287</td>\n",
       "      <td>4069</td>\n",
       "      <td>341316.0</td>\n",
       "      <td>3902.0</td>\n",
       "      <td>17940</td>\n",
       "      <td>209</td>\n",
       "      <td>4112961.0</td>\n",
       "      <td>211244.0</td>\n",
       "      <td>19470234</td>\n",
       "    </tr>\n",
       "    <tr>\n",
       "      <th>220</th>\n",
       "      <td>Zimbabwe</td>\n",
       "      <td>265737</td>\n",
       "      <td>5717</td>\n",
       "      <td>258888.0</td>\n",
       "      <td>1132.0</td>\n",
       "      <td>17333</td>\n",
       "      <td>373</td>\n",
       "      <td>2525756.0</td>\n",
       "      <td>164744.0</td>\n",
       "      <td>15331428</td>\n",
       "    </tr>\n",
       "  </tbody>\n",
       "</table>\n",
       "<p>221 rows × 10 columns</p>\n",
       "</div>"
      ],
      "text/plain": [
       "         Country/Other  Total Cases  Total Deaths  Total Recovered  \\\n",
       "0          Afghanistan       225659          7946         206248.0   \n",
       "1              Albania       334726          3602         329428.0   \n",
       "2              Algeria       271852          6881         183061.0   \n",
       "3              Andorra        48015           165          47563.0   \n",
       "4               Angola       105384          1934         103419.0   \n",
       "..                 ...          ...           ...              ...   \n",
       "216            Vietnam     11623288         43206       10640663.0   \n",
       "217  Wallis and Futuna         3550             8            438.0   \n",
       "218              Yemen        11945          2159           9124.0   \n",
       "219             Zambia       349287          4069         341316.0   \n",
       "220           Zimbabwe       265737          5717         258888.0   \n",
       "\n",
       "     Active Cases  Tot Cases/ 1M pop  Deaths/ 1M pop  Total Tests  \\\n",
       "0         11465.0               5537             195    1302555.0   \n",
       "1          1696.0             116777            1257    1941032.0   \n",
       "2         81910.0               5995             152     230960.0   \n",
       "3           287.0             619844            2130     249838.0   \n",
       "4            31.0               3009              55    1499795.0   \n",
       "..            ...                ...             ...          ...   \n",
       "216      939419.0             117462             437   85826548.0   \n",
       "217        3104.0             323256             728      20508.0   \n",
       "218         662.0                383              69     329592.0   \n",
       "219        3902.0              17940             209    4112961.0   \n",
       "220        1132.0              17333             373    2525756.0   \n",
       "\n",
       "     Tests/ 1M pop  Population  \n",
       "0          31961.0    40754388  \n",
       "1         677173.0     2866374  \n",
       "2           5093.0    45350148  \n",
       "3        3225256.0       77463  \n",
       "4          42818.0    35027343  \n",
       "..             ...         ...  \n",
       "216       867342.0    98953541  \n",
       "217      1867419.0       10982  \n",
       "218        10579.0    31154867  \n",
       "219       211244.0    19470234  \n",
       "220       164744.0    15331428  \n",
       "\n",
       "[221 rows x 10 columns]"
      ]
     },
     "execution_count": 4,
     "metadata": {},
     "output_type": "execute_result"
    }
   ],
   "source": [
    "data"
   ]
  },
  {
   "cell_type": "markdown",
   "id": "9e8a3883",
   "metadata": {},
   "source": [
    "# SCATTER PLOT"
   ]
  },
  {
   "cell_type": "raw",
   "id": "092a03c6",
   "metadata": {},
   "source": [
    "pt.scatter(\"Name\",\"ATTENDANCEPERCENTAGE\")"
   ]
  },
  {
   "cell_type": "raw",
   "id": "855cc8f9",
   "metadata": {},
   "source": [
    "Daata[\"model\"]=Daata[\"model [In capital letters]\"]"
   ]
  },
  {
   "cell_type": "code",
   "execution_count": 20,
   "id": "89193f03",
   "metadata": {},
   "outputs": [
    {
     "data": {
      "text/plain": [
       "<matplotlib.collections.PathCollection at 0x1c5fc385a50>"
      ]
     },
     "execution_count": 20,
     "metadata": {},
     "output_type": "execute_result"
    },
    {
     "data": {
      "image/png": "[encoded data removed]",
      "text/plain": [
       "<Figure size 640x480 with 1 Axes>"
      ]
     },
     "metadata": {},
     "output_type": "display_data"
    }
   ],
   "source": [
    "pt.scatter(data[\"Country/Other\"][:5],data[\"Total Recovered\"][:5])"
   ]
  },
  {
   "cell_type": "code",
   "execution_count": 23,
   "id": "11bd6ac1",
   "metadata": {},
   "outputs": [
    {
     "data": {
      "text/plain": [
       "([<matplotlib.patches.Wedge at 0x1c581cca8d0>,\n",
       "  <matplotlib.patches.Wedge at 0x1c581d09f10>,\n",
       "  <matplotlib.patches.Wedge at 0x1c581d0b210>,\n",
       "  <matplotlib.patches.Wedge at 0x1c581d10650>,\n",
       "  <matplotlib.patches.Wedge at 0x1c581d11910>,\n",
       "  <matplotlib.patches.Wedge at 0x1c581d12e10>],\n",
       " [Text(0.3828194401760753, 1.0312367702052117, 'Afghanistan'),\n",
       "  Text(-1.0859525169363737, 0.17523450276573657, 'Albania'),\n",
       "  Text(-0.139769268361381, -1.0910841175737664, 'Algeria'),\n",
       "  Text(0.8949350201352789, -0.6396024622650136, 'Andorra'),\n",
       "  Text(1.051040290999696, -0.3245216582838105, 'Angola'),\n",
       "  Text(1.099998147099165, -0.0020190043100390543, 'Anguilla')])"
      ]
     },
     "execution_count": 23,
     "metadata": {},
     "output_type": "execute_result"
    },
    {
     "data": {
      "image/png": "[encoded data removed]",
      "text/plain": [
       "<Figure size 640x480 with 1 Axes>"
      ]
     },
     "metadata": {},
     "output_type": "display_data"
    }
   ],
   "source": [
    "pt.pie(data[\"Total Deaths\"][:6],labels=data[\"Country/Other\"][:6])"
   ]
  },
  {
   "cell_type": "code",
   "execution_count": 31,
   "id": "e32482ae",
   "metadata": {},
   "outputs": [
    {
     "data": {
      "text/plain": [
       "<BarContainer object of 6 artists>"
      ]
     },
     "execution_count": 31,
     "metadata": {},
     "output_type": "execute_result"
    },
    {
     "data": {
      "image/png": "[encoded data removed]",
      "text/plain": [
       "<Figure size 640x480 with 1 Axes>"
      ]
     },
     "metadata": {},
     "output_type": "display_data"
    }
   ],
   "source": [
    "pt.bar(data[\"Country/Other\"][:6],data[\"Total Deaths\"][:6])"
   ]
  },
  {
   "cell_type": "code",
   "execution_count": null,
   "id": "9ff783b7",
   "metadata": {},
   "outputs": [],
   "source": []
  }
 ],
 "metadata": {
  "kernelspec": {
   "display_name": "Python 3 (ipykernel)",
   "language": "python",
   "name": "python3"
  },
  "language_info": {
   "codemirror_mode": {
    "name": "ipython",
    "version": 3
   },
   "file_extension": ".py",
   "mimetype": "text/x-python",
   "name": "python",
   "nbconvert_exporter": "python",
   "pygments_lexer": "ipython3",
   "version": "3.11.5"
  }
 },
 "nbformat": 4,
 "nbformat_minor": 5
}
